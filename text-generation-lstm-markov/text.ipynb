{
 "cells": [
  {
   "metadata": {
    "ExecuteTime": {
     "end_time": "2025-05-15T15:19:44.216099Z",
     "start_time": "2025-05-15T15:19:44.205650Z"
    }
   },
   "cell_type": "code",
   "source": [
    "import torch\n",
    "import torch.nn as nn\n",
    "import torch.nn.functional as F\n",
    "from torch.utils.data import Dataset, DataLoader\n",
    "import sentencepiece as spm\n",
    "import re\n",
    "import random\n",
    "from sklearn.model_selection import train_test_split"
   ],
   "id": "88307d6ad14a0199",
   "outputs": [],
   "execution_count": 140
  },
  {
   "metadata": {},
   "cell_type": "markdown",
   "source": "Загрузка и подготовка текста",
   "id": "bbc337eb97c3ff8c"
  },
  {
   "metadata": {
    "ExecuteTime": {
     "end_time": "2025-05-15T15:19:44.341072Z",
     "start_time": "2025-05-15T15:19:44.311653Z"
    }
   },
   "cell_type": "code",
   "source": [
    "with open(\"Dostoyevski_Idiot.txt\", \"r\", encoding=\"utf-8\") as f:\n",
    "    text = f.read()"
   ],
   "id": "919fe69a6040184e",
   "outputs": [],
   "execution_count": 141
  },
  {
   "metadata": {
    "ExecuteTime": {
     "end_time": "2025-05-15T15:19:44.493454Z",
     "start_time": "2025-05-15T15:19:44.413528Z"
    }
   },
   "cell_type": "code",
   "source": [
    "text = text.replace('#', ' ').replace('\\u00A0', ' ')\n",
    "sentences = re.split(r'(?<=[.!?…])\\s+', text)\n",
    "sentences = [s.strip() for s in sentences if s.strip()]\n",
    "sentences = sentences[:2000]"
   ],
   "id": "2171c87a45e15173",
   "outputs": [],
   "execution_count": 142
  },
  {
   "metadata": {
    "ExecuteTime": {
     "end_time": "2025-05-15T15:19:44.587894Z",
     "start_time": "2025-05-15T15:19:44.572466Z"
    }
   },
   "cell_type": "code",
   "source": [
    "with open(\"idiot_mini.txt\", \"w\", encoding=\"utf-8\") as f:\n",
    "    for s in sentences:\n",
    "        f.write(s + \"\\n\")"
   ],
   "id": "25be28f616b90cb1",
   "outputs": [],
   "execution_count": 143
  },
  {
   "metadata": {
    "ExecuteTime": {
     "end_time": "2025-05-15T15:19:44.959748Z",
     "start_time": "2025-05-15T15:19:44.650643Z"
    }
   },
   "cell_type": "code",
   "source": [
    "spm.SentencePieceTrainer.train(input=\"idiot_mini.txt\", model_prefix=\"idiot_mini\", vocab_size=600, model_type=\"bpe\")\n",
    "sp = spm.SentencePieceProcessor()\n",
    "sp.load(\"idiot_mini.model\")"
   ],
   "id": "fd0a37e72b025bae",
   "outputs": [
    {
     "data": {
      "text/plain": [
       "True"
      ]
     },
     "execution_count": 144,
     "metadata": {},
     "output_type": "execute_result"
    }
   ],
   "execution_count": 144
  },
  {
   "metadata": {
    "ExecuteTime": {
     "end_time": "2025-05-15T15:19:45.068232Z",
     "start_time": "2025-05-15T15:19:45.056727Z"
    }
   },
   "cell_type": "code",
   "source": [
    "vocab = [sp.IdToPiece(i) for i in range(sp.GetPieceSize())]\n",
    "token_to_id = {piece: i for i, piece in enumerate(vocab)}\n",
    "EOS_ID = len(token_to_id)\n",
    "PAD_ID = len(token_to_id) + 1\n",
    "token_to_id['[EOS]'] = EOS_ID\n",
    "token_to_id['[PAD]'] = PAD_ID\n",
    "vocab_size = len(token_to_id)"
   ],
   "id": "957006a43d3a7d78",
   "outputs": [],
   "execution_count": 145
  },
  {
   "metadata": {
    "ExecuteTime": {
     "end_time": "2025-05-15T15:19:45.413995Z",
     "start_time": "2025-05-15T15:19:45.147867Z"
    }
   },
   "cell_type": "code",
   "source": [
    "ids_sentences = []\n",
    "for s in sentences:\n",
    "    pieces = sp.EncodeAsPieces(s)\n",
    "    ids = [token_to_id[p] for p in pieces if p in token_to_id]\n",
    "    ids.append(EOS_ID)\n",
    "    ids_sentences.append(ids)"
   ],
   "id": "bd17f5811c7149f9",
   "outputs": [],
   "execution_count": 146
  },
  {
   "metadata": {},
   "cell_type": "markdown",
   "source": "Тренировочный набор (prefix → next token)",
   "id": "5c5900f18092833a"
  },
  {
   "metadata": {
    "ExecuteTime": {
     "end_time": "2025-05-15T15:19:45.490001Z",
     "start_time": "2025-05-15T15:19:45.482556Z"
    }
   },
   "cell_type": "code",
   "source": "context_size = 32",
   "id": "15e5bd3905d2cb7b",
   "outputs": [],
   "execution_count": 147
  },
  {
   "metadata": {
    "ExecuteTime": {
     "end_time": "2025-05-15T15:19:45.581163Z",
     "start_time": "2025-05-15T15:19:45.568135Z"
    }
   },
   "cell_type": "code",
   "source": [
    "class PrefixDataset(Dataset):\n",
    "    def __init__(self, sequences, ctx_size, pad_id):\n",
    "        self.data = []\n",
    "        for tokens in sequences:\n",
    "            for i in range(1, len(tokens)):\n",
    "                prefix = tokens[max(0, i-ctx_size):i]\n",
    "                if len(prefix) < ctx_size:\n",
    "                    prefix = [pad_id] * (ctx_size - len(prefix)) + prefix\n",
    "                self.data.append((prefix, tokens[i]))\n",
    "    def __len__(self): return len(self.data)\n",
    "    def __getitem__(self, idx): x, y = self.data[idx]; return torch.tensor(x), torch.tensor(y)"
   ],
   "id": "3c6c867977696ce6",
   "outputs": [],
   "execution_count": 148
  },
  {
   "metadata": {
    "ExecuteTime": {
     "end_time": "2025-05-15T15:19:55.369244Z",
     "start_time": "2025-05-15T15:19:45.647624Z"
    }
   },
   "cell_type": "code",
   "source": [
    "dataset = PrefixDataset(ids_sentences, context_size, PAD_ID)\n",
    "train_data, test_data = train_test_split(dataset.data, test_size=0.2, random_state=52)"
   ],
   "id": "81fec4f547e0bde7",
   "outputs": [],
   "execution_count": 149
  },
  {
   "metadata": {
    "ExecuteTime": {
     "end_time": "2025-05-15T15:19:55.439626Z",
     "start_time": "2025-05-15T15:19:55.428163Z"
    }
   },
   "cell_type": "code",
   "source": [
    "class SplitDataset(Dataset):\n",
    "    def __init__(self, data): self.data = data\n",
    "    def __len__(self): return len(self.data)\n",
    "    def __getitem__(self, idx): x, y = self.data[idx]; return torch.tensor(x), torch.tensor(y)"
   ],
   "id": "27635f6618eb95b4",
   "outputs": [],
   "execution_count": 150
  },
  {
   "metadata": {
    "ExecuteTime": {
     "end_time": "2025-05-15T15:19:55.542518Z",
     "start_time": "2025-05-15T15:19:55.517922Z"
    }
   },
   "cell_type": "code",
   "source": [
    "train_loader = DataLoader(SplitDataset(train_data), batch_size=32, shuffle=True)\n",
    "test_loader = DataLoader(SplitDataset(test_data), batch_size=32)"
   ],
   "id": "c21a5cbe9b69f78",
   "outputs": [],
   "execution_count": 151
  },
  {
   "metadata": {},
   "cell_type": "markdown",
   "source": "Архитектура LSTM",
   "id": "2c5fc5ef531291d6"
  },
  {
   "metadata": {
    "ExecuteTime": {
     "end_time": "2025-05-15T15:19:55.623797Z",
     "start_time": "2025-05-15T15:19:55.612468Z"
    }
   },
   "cell_type": "code",
   "source": [
    "class LSTMModel(nn.Module):\n",
    "    def __init__(self, vocab_size, embed_dim=256, hidden_dim=512, num_layers=2, dropout=0.3):\n",
    "        super().__init__()\n",
    "        self.embedding = nn.Embedding(vocab_size, embed_dim)\n",
    "        self.lstm = nn.LSTM(\n",
    "            input_size=embed_dim,\n",
    "            hidden_size=hidden_dim,\n",
    "            num_layers=num_layers,\n",
    "            batch_first=True,\n",
    "            dropout=dropout\n",
    "        )\n",
    "        self.fc = nn.Linear(hidden_dim, vocab_size)\n",
    "\n",
    "    def forward(self, x, hidden=None, return_all_logits=False):\n",
    "        x = self.embedding(x)\n",
    "        out, hidden = self.lstm(x, hidden)\n",
    "        logits = self.fc(out)\n",
    "\n",
    "        if return_all_logits:\n",
    "            return logits, hidden\n",
    "        else:\n",
    "            return logits[:, -1], hidden"
   ],
   "id": "61d0de7fd7351ea8",
   "outputs": [],
   "execution_count": 152
  },
  {
   "metadata": {
    "ExecuteTime": {
     "end_time": "2025-05-15T15:19:55.743614Z",
     "start_time": "2025-05-15T15:19:55.701645Z"
    }
   },
   "cell_type": "code",
   "source": [
    "model = LSTMModel(vocab_size)\n",
    "optimizer = torch.optim.Adam(model.parameters(), lr=0.005)\n",
    "criterion = nn.CrossEntropyLoss()"
   ],
   "id": "603aacf555abdc48",
   "outputs": [],
   "execution_count": 153
  },
  {
   "metadata": {},
   "cell_type": "markdown",
   "source": "Обучение LSTM (1 эпоха)",
   "id": "ccc7028d22b23194"
  },
  {
   "metadata": {
    "ExecuteTime": {
     "end_time": "2025-05-15T15:19:55.803685Z",
     "start_time": "2025-05-15T15:19:55.796091Z"
    }
   },
   "cell_type": "code",
   "source": [
    "num_epochs = 20\n",
    "train_losses = []\n",
    "test_losses = []"
   ],
   "id": "f099407438d3befe",
   "outputs": [],
   "execution_count": 154
  },
  {
   "metadata": {
    "ExecuteTime": {
     "end_time": "2025-05-15T18:03:28.191490Z",
     "start_time": "2025-05-15T15:19:55.866442Z"
    }
   },
   "cell_type": "code",
   "source": [
    "from tqdm import tqdm\n",
    "\n",
    "train_losses = []\n",
    "test_losses = []\n",
    "\n",
    "for epoch in range(num_epochs):\n",
    "    model.train()\n",
    "    total_train_loss = 0\n",
    "\n",
    "    train_bar = tqdm(train_loader, desc=f\"Epoch {epoch+1}\")\n",
    "\n",
    "    for x, y in train_bar:\n",
    "        optimizer.zero_grad()\n",
    "        logits, _ = model(x)\n",
    "        loss = criterion(logits, y)\n",
    "        loss.backward()\n",
    "        optimizer.step()\n",
    "        total_train_loss += loss.item()\n",
    "        train_bar.set_postfix(loss=loss.item())\n",
    "\n",
    "    avg_train_loss = total_train_loss / len(train_loader)\n",
    "    train_losses.append(avg_train_loss)\n",
    "\n",
    "    model.eval()\n",
    "    total_test_loss = 0\n",
    "    with torch.no_grad():\n",
    "        for x, y in test_loader:\n",
    "            logits, _ = model(x)\n",
    "            loss = criterion(logits, y)\n",
    "            total_test_loss += loss.item()\n",
    "    avg_test_loss = total_test_loss / len(test_loader)\n",
    "    test_losses.append(avg_test_loss)"
   ],
   "id": "9d3efbb0f378428d",
   "outputs": [
    {
     "name": "stderr",
     "output_type": "stream",
     "text": [
      "Epoch 1: 100%|██████████| 1860/1860 [06:18<00:00,  4.92it/s, loss=4.86]\n",
      "Epoch 2: 100%|██████████| 1860/1860 [06:18<00:00,  4.91it/s, loss=4.67]\n",
      "Epoch 3: 100%|██████████| 1860/1860 [06:19<00:00,  4.91it/s, loss=4.64]\n",
      "Epoch 4: 100%|██████████| 1860/1860 [06:40<00:00,  4.65it/s, loss=4.53]\n",
      "Epoch 5: 100%|██████████| 1860/1860 [06:23<00:00,  4.85it/s, loss=5.12]\n",
      "Epoch 6: 100%|██████████| 1860/1860 [06:20<00:00,  4.88it/s, loss=4.65]\n",
      "Epoch 7: 100%|██████████| 1860/1860 [06:36<00:00,  4.69it/s, loss=4.2] \n",
      "Epoch 8: 100%|██████████| 1860/1860 [06:19<00:00,  4.90it/s, loss=3.75]\n",
      "Epoch 9: 100%|██████████| 1860/1860 [06:25<00:00,  4.83it/s, loss=4.18]\n",
      "Epoch 10: 100%|██████████| 1860/1860 [06:44<00:00,  4.60it/s, loss=3.82]\n",
      "Epoch 11: 100%|██████████| 1860/1860 [06:59<00:00,  4.43it/s, loss=3.69]\n",
      "Epoch 12: 100%|██████████| 1860/1860 [06:25<00:00,  4.83it/s, loss=4.04]\n",
      "Epoch 13: 100%|██████████| 1860/1860 [06:21<00:00,  4.87it/s, loss=4.03]\n",
      "Epoch 14: 100%|██████████| 1860/1860 [06:19<00:00,  4.90it/s, loss=3.81]\n",
      "Epoch 15: 100%|██████████| 1860/1860 [06:19<00:00,  4.90it/s, loss=4.05]\n",
      "Epoch 16: 100%|██████████| 1860/1860 [23:32<00:00,  1.32it/s, loss=2.84] \n",
      "Epoch 17: 100%|██████████| 1860/1860 [08:55<00:00,  3.47it/s, loss=4.22]\n",
      "Epoch 18: 100%|██████████| 1860/1860 [07:31<00:00,  4.12it/s, loss=3.79]\n",
      "Epoch 19: 100%|██████████| 1860/1860 [08:06<00:00,  3.83it/s, loss=4.63]\n",
      "Epoch 20: 100%|██████████| 1860/1860 [07:31<00:00,  4.12it/s, loss=3.02]\n"
     ]
    }
   ],
   "execution_count": 155
  },
  {
   "metadata": {
    "ExecuteTime": {
     "end_time": "2025-05-15T18:03:28.525344Z",
     "start_time": "2025-05-15T18:03:28.326647Z"
    }
   },
   "cell_type": "code",
   "source": [
    "from matplotlib import pyplot as plt\n",
    "\n",
    "plt.plot(range(1, num_epochs+1), train_losses, label='Train Loss')\n",
    "plt.plot(range(1, num_epochs+1), test_losses, label='Test Loss')\n",
    "plt.xlabel(\"Epoch\")\n",
    "plt.ylabel(\"Loss\")\n",
    "plt.title(\"Training and Test Loss\")\n",
    "plt.legend()\n",
    "plt.grid(True)\n",
    "plt.tight_layout()\n",
    "plt.show()"
   ],
   "id": "f74cc6126b1a37d9",
   "outputs": [
    {
     "data": {
      "text/plain": [
       "<Figure size 640x480 with 1 Axes>"
      ],
      "image/png": "[encoded data removed]"
     },
     "metadata": {},
     "output_type": "display_data"
    }
   ],
   "execution_count": 156
  },
  {
   "metadata": {},
   "cell_type": "markdown",
   "source": "Генерация текста (Greedy и Sampling)",
   "id": "c356a5b741392bd9"
  },
  {
   "metadata": {
    "ExecuteTime": {
     "end_time": "2025-05-15T18:03:28.741573Z",
     "start_time": "2025-05-15T18:03:28.671856Z"
    }
   },
   "cell_type": "code",
   "source": [
    "def generate(model, prefix_ids, mode='greedy', max_len=20):\n",
    "    model.eval()\n",
    "    generated = prefix_ids[:]\n",
    "    with torch.no_grad():\n",
    "        for _ in range(max_len):\n",
    "            context = generated[-context_size:]\n",
    "            if len(context) < context_size:\n",
    "                context = [PAD_ID] * (context_size - len(context)) + context\n",
    "            inp = torch.tensor(context).unsqueeze(0)\n",
    "            logits = model(inp)[0]\n",
    "            probs = F.softmax(logits, dim=0)\n",
    "            next_token = (\n",
    "                torch.argmax(probs).item()\n",
    "                if mode == 'greedy'\n",
    "                else torch.multinomial(probs, 1).item()\n",
    "            )\n",
    "            generated.append(next_token)\n",
    "            if next_token == EOS_ID: break\n",
    "    return generated"
   ],
   "id": "968a1a080c3af7ad",
   "outputs": [],
   "execution_count": 157
  },
  {
   "metadata": {
    "ExecuteTime": {
     "end_time": "2025-05-15T18:03:29.186225Z",
     "start_time": "2025-05-15T18:03:29.161418Z"
    }
   },
   "cell_type": "code",
   "source": [
    "def decode(ids):\n",
    "    ids = [i for i in ids if i < len(vocab)]\n",
    "    return sp.DecodePieces([vocab[i] for i in ids])"
   ],
   "id": "3b9b6aec80babc5e",
   "outputs": [],
   "execution_count": 158
  },
  {
   "metadata": {
    "ExecuteTime": {
     "end_time": "2025-05-15T18:03:29.579709Z",
     "start_time": "2025-05-15T18:03:29.551701Z"
    }
   },
   "cell_type": "code",
   "source": [
    "start_text = \"Он был человек\"\n",
    "prefix = [token_to_id[p] for p in sp.EncodeAsPieces(start_text) if p in token_to_id]"
   ],
   "id": "1e913a84bcc191fd",
   "outputs": [],
   "execution_count": 159
  },
  {
   "metadata": {
    "ExecuteTime": {
     "end_time": "2025-05-15T18:03:30.344703Z",
     "start_time": "2025-05-15T18:03:29.854101Z"
    }
   },
   "cell_type": "code",
   "source": [
    "greedy_out = generate(model, prefix, mode='greedy')\n",
    "sample_out = generate(model, prefix, mode='sample')"
   ],
   "id": "587c245531699fe3",
   "outputs": [],
   "execution_count": 160
  },
  {
   "metadata": {
    "ExecuteTime": {
     "end_time": "2025-05-15T18:03:30.556384Z",
     "start_time": "2025-05-15T18:03:30.550853Z"
    }
   },
   "cell_type": "code",
   "source": [
    "print(\"LSTM Greedy :\", decode(greedy_out))\n",
    "print(\"LSTM Sample :\", decode(sample_out))"
   ],
   "id": "f5ae469a7d3a034f",
   "outputs": [
    {
     "name": "stdout",
     "output_type": "stream",
     "text": [
      "LSTM Greedy : Он был человек ⁇  ⁇  ⁇  ⁇  ⁇  ⁇  ⁇  ⁇  ⁇  ⁇  ⁇  ⁇  ⁇  ⁇  ⁇  ⁇  ⁇  ⁇  ⁇  ⁇ \n",
      "LSTM Sample : Он был человеккомзареальиласьср Мариц жи тоси вся своднодраного ва ещеться\n"
     ]
    }
   ],
   "execution_count": 161
  },
  {
   "metadata": {},
   "cell_type": "markdown",
   "source": "Генерация из разных начал",
   "id": "43c1d2fc57777002"
  },
  {
   "metadata": {
    "ExecuteTime": {
     "end_time": "2025-05-15T18:03:31.314527Z",
     "start_time": "2025-05-15T18:03:30.595868Z"
    }
   },
   "cell_type": "code",
   "source": [
    "for line in [\"Я тебя\", \"Вы мне\", \"Как хорошо\"]:\n",
    "    prefix = [token_to_id[p] for p in sp.EncodeAsPieces(line) if p in token_to_id]\n",
    "    g = decode(generate(model, prefix, mode='greedy'))\n",
    "    s = decode(generate(model, prefix, mode='sample'))\n",
    "    print(f\"\\nНачало: {line}\\n  [Greedy] {g}\\n  [Sample] {s}\")"
   ],
   "id": "6756f8870dff2748",
   "outputs": [
    {
     "name": "stdout",
     "output_type": "stream",
     "text": [
      "\n",
      "Начало: Я тебя\n",
      "  [Greedy] Я тебя ⁇  ⁇  ⁇  ⁇  ⁇  ⁇  ⁇  ⁇  ⁇  ⁇  ⁇  ⁇  ⁇  ⁇  ⁇  ⁇  ⁇  ⁇  ⁇  ⁇ \n",
      "  [Sample] Я тебяный На гоей маллсяютлаж ты ст нас гланимжд были импбяенерал\n",
      "\n",
      "Начало: Вы мне\n",
      "  [Greedy] Вы мне ⁇  ⁇  ⁇  ⁇  ⁇  ⁇  ⁇  ⁇  ⁇  ⁇  ⁇  ⁇  ⁇  ⁇  ⁇  ⁇  ⁇  ⁇  ⁇  ⁇ \n",
      "  [Sample] Вы мне се остайтеки у мал Тч знаю меняель гла Фалсяльб наст этовет\n",
      "\n",
      "Начало: Как хорошо\n",
      "  [Greedy] Как хорошо ⁇  ⁇  ⁇  ⁇  ⁇  ⁇  ⁇  ⁇  ⁇  ⁇  ⁇  ⁇  ⁇  ⁇  ⁇  ⁇  ⁇  ⁇  ⁇  ⁇ \n",
      "  [Sample] Как хорошоут тамся ми дру заЧэ тоутилиппеказвно негором часПва\n"
     ]
    }
   ],
   "execution_count": 162
  },
  {
   "metadata": {},
   "cell_type": "markdown",
   "source": "Марковская цепь",
   "id": "a9aa2ebfd6ad18b"
  },
  {
   "metadata": {
    "ExecuteTime": {
     "end_time": "2025-05-15T18:03:31.385473Z",
     "start_time": "2025-05-15T18:03:31.355991Z"
    }
   },
   "cell_type": "code",
   "source": [
    "transitions = {}\n",
    "for seq in ids_sentences:\n",
    "    for i in range(len(seq) - 1):\n",
    "        a, b = seq[i], seq[i+1]\n",
    "        if a not in transitions: transitions[a] = {}\n",
    "        transitions[a][b] = transitions[a].get(b, 0) + 1"
   ],
   "id": "6749731d5f135991",
   "outputs": [],
   "execution_count": 163
  },
  {
   "metadata": {
    "ExecuteTime": {
     "end_time": "2025-05-15T18:03:31.423543Z",
     "start_time": "2025-05-15T18:03:31.417340Z"
    }
   },
   "cell_type": "code",
   "source": [
    "def markov_generate(start_ids, greedy=True, max_len=20):\n",
    "    out = start_ids[:]\n",
    "    for _ in range(max_len):\n",
    "        last = out[-1]\n",
    "        if last not in transitions: break\n",
    "        options = transitions[last]\n",
    "        if greedy:\n",
    "            next_tok = max(options.items(), key=lambda x: x[1])[0]\n",
    "        else:\n",
    "            tokens, weights = zip(*options.items())\n",
    "            next_tok = random.choices(tokens, weights=weights)[0]\n",
    "        out.append(next_tok)\n",
    "        if next_tok == EOS_ID: break\n",
    "    return out"
   ],
   "id": "6da9a259879e3a6",
   "outputs": [],
   "execution_count": 164
  },
  {
   "metadata": {},
   "cell_type": "markdown",
   "source": "Примеры генерации по Марковской цепи",
   "id": "53a818f003ffb7ff"
  },
  {
   "metadata": {
    "ExecuteTime": {
     "end_time": "2025-05-15T18:03:31.471210Z",
     "start_time": "2025-05-15T18:03:31.464565Z"
    }
   },
   "cell_type": "code",
   "source": [
    "for line in [\"Я тебя\", \"Вы мне\", \"Как хорошо\"]:\n",
    "    prefix = [token_to_id[p] for p in sp.EncodeAsPieces(line) if p in token_to_id]\n",
    "    g = decode(markov_generate(prefix, greedy=True))\n",
    "    s = decode(markov_generate(prefix, greedy=False))\n",
    "    print(f\"\\n[Марков] {line}\\n  [Greedy] {g}\\n  [Sample] {s}\")"
   ],
   "id": "54aee9e8aa934b8a",
   "outputs": [
    {
     "name": "stdout",
     "output_type": "stream",
     "text": [
      "\n",
      "[Марков] Я тебя\n",
      "  [Greedy] Я тебят, что я, что я, что я, что я, что я, что я,\n",
      "  [Sample] Я тебя стороны или не встеливай кажденемлюсь денькогда\n",
      "\n",
      "[Марков] Вы мне\n",
      "  [Greedy] Вы мне, что я, что я, что я, что я, что я, что я, что\n",
      "  [Sample] Вы мне вдруг усывал Ровствензническорывать, а еще самы\n",
      "\n",
      "[Марков] Как хорошо\n",
      "  [Greedy] Как хорошордалиордалиордалиордалиордалиордалиордали\n",
      "  [Sample] Как хорошо, надозведственком, какиали войдца, еще мал\n"
     ]
    }
   ],
   "execution_count": 165
  }
 ],
 "metadata": {},
 "nbformat": 4,
 "nbformat_minor": 5
}
