{
 "cells": [
  {
   "cell_type": "code",
   "execution_count": 1,
   "id": "initial_id",
   "metadata": {
    "collapsed": true,
    "ExecuteTime": {
     "end_time": "2025-02-12T14:18:34.538229900Z",
     "start_time": "2025-02-12T14:18:32.504227800Z"
    }
   },
   "outputs": [],
   "source": [
    "import os\n",
    "import csv\n",
    "from io import BytesIO\n",
    "\n",
    "import requests\n",
    "from PIL import Image\n",
    "from dotenv import load_dotenv"
   ]
  },
  {
   "cell_type": "markdown",
   "source": [
    "### Загружаем переменные окружения"
   ],
   "metadata": {
    "collapsed": false
   },
   "id": "ca8e2515803028d6"
  },
  {
   "cell_type": "code",
   "execution_count": 2,
   "outputs": [
    {
     "data": {
      "text/plain": "True"
     },
     "execution_count": 2,
     "metadata": {},
     "output_type": "execute_result"
    }
   ],
   "source": [
    "load_dotenv()"
   ],
   "metadata": {
    "collapsed": false,
    "ExecuteTime": {
     "end_time": "2025-02-12T14:18:34.583306400Z",
     "start_time": "2025-02-12T14:18:34.536827200Z"
    }
   },
   "id": "4bf0325e82eeb1ae"
  },
  {
   "cell_type": "markdown",
   "source": [
    "### Параметры:"
   ],
   "metadata": {
    "collapsed": false
   },
   "id": "45ce5920af1968f3"
  },
  {
   "cell_type": "code",
   "execution_count": 3,
   "outputs": [],
   "source": [
    "SAVE_DIR = \"dataset/images\"\n",
    "LABELS_FILE = os.path.join(SAVE_DIR, \"data.csv\")\n",
    "BATCH_SIZE = 50\n",
    "IMG_SIZE = (128, 128)"
   ],
   "metadata": {
    "collapsed": false,
    "ExecuteTime": {
     "end_time": "2025-02-12T14:18:50.206965900Z",
     "start_time": "2025-02-12T14:18:50.157607Z"
    }
   },
   "id": "95f50c377f00f270"
  },
  {
   "cell_type": "code",
   "execution_count": 4,
   "outputs": [],
   "source": [
    "API_URLS = {\n",
    "    \"cat\": \"https://api.thecatapi.com/v1/images/search\",\n",
    "    \"dog\": \"https://api.thedogapi.com/v1/images/search\"\n",
    "}"
   ],
   "metadata": {
    "collapsed": false,
    "ExecuteTime": {
     "end_time": "2025-02-12T14:18:52.763038900Z",
     "start_time": "2025-02-12T14:18:52.721927800Z"
    }
   },
   "id": "5cf1f8e385bac158"
  },
  {
   "cell_type": "code",
   "execution_count": 5,
   "outputs": [],
   "source": [
    "HEADERS = {\n",
    "    \"cat\": {\"x-api-key\": os.getenv(\"API_KEY_cat\")},\n",
    "    \"dog\": {\"x-api-key\": os.getenv(\"API_KEY_dog\")}\n",
    "}"
   ],
   "metadata": {
    "collapsed": false,
    "ExecuteTime": {
     "end_time": "2025-02-12T14:18:53.483034Z",
     "start_time": "2025-02-12T14:18:53.414784Z"
    }
   },
   "id": "8ae3a7e632d71c16"
  },
  {
   "cell_type": "markdown",
   "source": [
    "### Функции ляляля"
   ],
   "metadata": {
    "collapsed": false
   },
   "id": "c9d11548206dc4ab"
  },
  {
   "cell_type": "code",
   "execution_count": 6,
   "outputs": [],
   "source": [
    "def download_image(url, path):\n",
    "    try:\n",
    "        response = requests.get(url, stream=True)\n",
    "        response.raise_for_status()\n",
    "        img = Image.open(BytesIO(response.content)).resize(IMG_SIZE)\n",
    "        img.save(path, format=\"PNG\")\n",
    "        return True\n",
    "    except Exception as e:\n",
    "        print(f\"Error {url}: {e}\")\n",
    "        return False"
   ],
   "metadata": {
    "collapsed": false,
    "ExecuteTime": {
     "end_time": "2025-02-12T14:18:56.171694100Z",
     "start_time": "2025-02-12T14:18:56.104293700Z"
    }
   },
   "id": "6b57ae6fb6a701bb"
  },
  {
   "cell_type": "code",
   "execution_count": 7,
   "outputs": [],
   "source": [
    "def get_images(num_images, label, labels, category) -> None:\n",
    "    downloaded = len(labels)\n",
    "    while downloaded < num_images:\n",
    "        try:            \n",
    "            response = requests.get(\n",
    "                API_URLS[category],\n",
    "                params={\"limit\": min(BATCH_SIZE, num_images - downloaded)},\n",
    "                headers=HEADERS[category]\n",
    "            )\n",
    "            response.raise_for_status()\n",
    "            images = response.json()\n",
    "\n",
    "            for img_data in images:\n",
    "                img_url = img_data.get(\"url\")\n",
    "                if not img_url:\n",
    "                    continue\n",
    "\n",
    "                img_name = f\"image_{downloaded + 1}.png\"\n",
    "                img_path = os.path.join(SAVE_DIR, img_name)\n",
    "\n",
    "                if download_image(img_url, img_path):\n",
    "                    labels.append((img_name, label))\n",
    "                    downloaded += 1\n",
    "\n",
    "                if downloaded >= num_images:\n",
    "                    break\n",
    "        except requests.RequestException as e:\n",
    "            print(f\"Error API: {e}\")"
   ],
   "metadata": {
    "collapsed": false,
    "ExecuteTime": {
     "end_time": "2025-02-12T14:18:59.334150200Z",
     "start_time": "2025-02-12T14:18:59.315989700Z"
    }
   },
   "id": "321f11d11a4823f1"
  },
  {
   "cell_type": "markdown",
   "source": [
    "### Список меток изображений"
   ],
   "metadata": {
    "collapsed": false
   },
   "id": "760a55d3caebc86b"
  },
  {
   "cell_type": "code",
   "execution_count": 8,
   "outputs": [],
   "source": [
    "labels = []"
   ],
   "metadata": {
    "collapsed": false,
    "ExecuteTime": {
     "end_time": "2025-02-12T14:19:01.554364300Z",
     "start_time": "2025-02-12T14:19:01.517258100Z"
    }
   },
   "id": "d5c8e0c983050929"
  },
  {
   "cell_type": "markdown",
   "source": [
    "### Скачиваем кошек и не кошек"
   ],
   "metadata": {
    "collapsed": false
   },
   "id": "6ef8fe0bd5643d42"
  },
  {
   "cell_type": "code",
   "execution_count": 9,
   "outputs": [],
   "source": [
    "get_images(1000, 1, labels, \"cat\")"
   ],
   "metadata": {
    "collapsed": false,
    "ExecuteTime": {
     "end_time": "2025-02-12T14:27:42.295361100Z",
     "start_time": "2025-02-12T14:19:03.432878900Z"
    }
   },
   "id": "843e2ffca4e7fdf3"
  },
  {
   "cell_type": "code",
   "execution_count": 11,
   "outputs": [
    {
     "name": "stderr",
     "output_type": "stream",
     "text": [
      "C:\\Users\\tiapo\\AppData\\Local\\Programs\\Python\\Python312\\Lib\\site-packages\\PIL\\Image.py:3368: DecompressionBombWarning: Image size (108000000 pixels) exceeds limit of 89478485 pixels, could be decompression bomb DOS attack.\n",
      "  warnings.warn(\n"
     ]
    }
   ],
   "source": [
    "get_images(2000, 0, labels, \"dog\")"
   ],
   "metadata": {
    "collapsed": false,
    "ExecuteTime": {
     "end_time": "2025-02-12T14:40:35.705529400Z",
     "start_time": "2025-02-12T14:29:35.999246300Z"
    }
   },
   "id": "cf739689c15c3acd"
  },
  {
   "cell_type": "markdown",
   "source": [
    "### Сохраняем"
   ],
   "metadata": {
    "collapsed": false
   },
   "id": "3a95ff29debfffb4"
  },
  {
   "cell_type": "code",
   "execution_count": 13,
   "outputs": [],
   "source": [
    "with open(LABELS_FILE, mode='w', newline='') as file:\n",
    "    writer = csv.writer(file)\n",
    "    writer.writerow([\"image\", \"label\"])\n",
    "    writer.writerows(labels)"
   ],
   "metadata": {
    "collapsed": false,
    "ExecuteTime": {
     "end_time": "2025-02-12T14:41:20.165836300Z",
     "start_time": "2025-02-12T14:41:20.128984800Z"
    }
   },
   "id": "fa8d3f5fd87e1d44"
  }
 ],
 "metadata": {
  "kernelspec": {
   "display_name": "Python 3",
   "language": "python",
   "name": "python3"
  },
  "language_info": {
   "codemirror_mode": {
    "name": "ipython",
    "version": 2
   },
   "file_extension": ".py",
   "mimetype": "text/x-python",
   "name": "python",
   "nbconvert_exporter": "python",
   "pygments_lexer": "ipython2",
   "version": "2.7.6"
  }
 },
 "nbformat": 4,
 "nbformat_minor": 5
}
