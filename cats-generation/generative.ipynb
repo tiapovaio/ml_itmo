{
 "cells": [
  {
   "cell_type": "markdown",
   "source": [
    "# Генерация мордочек кошек"
   ],
   "metadata": {
    "collapsed": false
   },
   "id": "94aec1c655009ee4"
  },
  {
   "cell_type": "code",
   "execution_count": 1,
   "id": "initial_id",
   "metadata": {
    "collapsed": true,
    "ExecuteTime": {
     "end_time": "2025-02-27T12:11:37.392282700Z",
     "start_time": "2025-02-27T12:11:25.635784700Z"
    }
   },
   "outputs": [],
   "source": [
    "import torch\n",
    "import torch.nn as nn\n",
    "import torch.optim as optim\n",
    "from torch.utils.data import DataLoader, random_split\n",
    "from torchvision import transforms, datasets\n",
    "from torch.utils.tensorboard import SummaryWriter\n",
    "from tqdm import tqdm\n",
    "import numpy as np\n",
    "import matplotlib.pyplot as plt\n",
    "import imageio\n",
    "from tensorboard.backend.event_processing import event_accumulator"
   ]
  },
  {
   "cell_type": "markdown",
   "source": [
    "## Данные\n",
    "Я использую датасет с картинками мордочек кошек 64*64\n",
    "15788 штук"
   ],
   "metadata": {
    "collapsed": false
   },
   "id": "4655d8a772d9387"
  },
  {
   "cell_type": "code",
   "execution_count": 2,
   "outputs": [],
   "source": [
    "image_size = 64\n",
    "batch_size = 64\n",
    "latent_dim = 128\n",
    "learning_rate = 0.001"
   ],
   "metadata": {
    "collapsed": false,
    "ExecuteTime": {
     "end_time": "2025-02-27T12:11:37.422424400Z",
     "start_time": "2025-02-27T12:11:37.391208200Z"
    }
   },
   "id": "783ecb0979ac8dd7"
  },
  {
   "cell_type": "code",
   "execution_count": 3,
   "outputs": [],
   "source": [
    "device = torch.device(\"cpu\")"
   ],
   "metadata": {
    "collapsed": false,
    "ExecuteTime": {
     "end_time": "2025-02-27T12:11:37.450835900Z",
     "start_time": "2025-02-27T12:11:37.403593900Z"
    }
   },
   "id": "bcbf5f21d2515a82"
  },
  {
   "cell_type": "code",
   "execution_count": 4,
   "outputs": [],
   "source": [
    "transform = transforms.Compose([\n",
    "    transforms.ToTensor(),\n",
    "    transforms.Normalize(mean=[0.5, 0.5, 0.5], std=[0.5, 0.5, 0.5])\n",
    "])"
   ],
   "metadata": {
    "collapsed": false,
    "ExecuteTime": {
     "end_time": "2025-02-27T12:11:37.454098400Z",
     "start_time": "2025-02-27T12:11:37.422424400Z"
    }
   },
   "id": "f449caec399c683d"
  },
  {
   "cell_type": "code",
   "execution_count": 5,
   "outputs": [],
   "source": [
    "dataset = datasets.ImageFolder(root=\"dataset\", transform=transform)"
   ],
   "metadata": {
    "collapsed": false,
    "ExecuteTime": {
     "end_time": "2025-02-27T12:11:37.548116900Z",
     "start_time": "2025-02-27T12:11:37.436518100Z"
    }
   },
   "id": "ec8efad9794af26"
  },
  {
   "cell_type": "code",
   "execution_count": 6,
   "outputs": [],
   "source": [
    "total_size = len(dataset)\n",
    "train_size = int(0.9 * total_size)\n",
    "test_size = total_size - train_size"
   ],
   "metadata": {
    "collapsed": false,
    "ExecuteTime": {
     "end_time": "2025-02-27T12:11:37.551370300Z",
     "start_time": "2025-02-27T12:11:37.539311400Z"
    }
   },
   "id": "6599fbab92392ce"
  },
  {
   "cell_type": "code",
   "execution_count": 7,
   "outputs": [],
   "source": [
    "train_dataset, test_dataset = random_split(dataset, [train_size, test_size])"
   ],
   "metadata": {
    "collapsed": false,
    "ExecuteTime": {
     "end_time": "2025-02-27T12:11:37.595638300Z",
     "start_time": "2025-02-27T12:11:37.549177600Z"
    }
   },
   "id": "df319a00cf42b3e4"
  },
  {
   "cell_type": "code",
   "execution_count": 8,
   "outputs": [],
   "source": [
    "train_loader = DataLoader(train_dataset, batch_size=batch_size, num_workers=5)\n",
    "test_loader = DataLoader(test_dataset, batch_size=batch_size, num_workers=5)"
   ],
   "metadata": {
    "collapsed": false,
    "ExecuteTime": {
     "end_time": "2025-02-27T12:11:37.662996800Z",
     "start_time": "2025-02-27T12:11:37.561813400Z"
    }
   },
   "id": "cc7d1845ff2afa84"
  },
  {
   "cell_type": "markdown",
   "source": [
    "## AutoEncoder"
   ],
   "metadata": {
    "collapsed": false
   },
   "id": "9631b34730a19631"
  },
  {
   "cell_type": "code",
   "execution_count": 9,
   "outputs": [],
   "source": [
    "class AutoEncoder(nn.Module):\n",
    "    def __init__(self):\n",
    "        super(AutoEncoder, self).__init__()\n",
    "        self.encoder = nn.Sequential(\n",
    "            nn.Conv2d(3, 32, kernel_size=4, stride=2, padding=1),  \n",
    "            nn.ReLU(),\n",
    "            nn.Conv2d(32, 64, kernel_size=4, stride=2, padding=1), \n",
    "            nn.ReLU(),\n",
    "            nn.Conv2d(64, 128, kernel_size=4, stride=2, padding=1), \n",
    "            nn.ReLU(),\n",
    "            nn.Conv2d(128, 256, kernel_size=4, stride=2, padding=1),  \n",
    "            nn.ReLU(),\n",
    "            nn.Conv2d(256, latent_dim, kernel_size=4, stride=1, padding=0)\n",
    "        )\n",
    "        \n",
    "        self.decoder = nn.Sequential(\n",
    "            nn.ConvTranspose2d(latent_dim, 256, kernel_size=4, stride=1, padding=0),\n",
    "            nn.ReLU(),\n",
    "            nn.ConvTranspose2d(256, 128, kernel_size=4, stride=2, padding=1), \n",
    "            nn.ReLU(),\n",
    "            nn.ConvTranspose2d(128, 64, kernel_size=4, stride=2, padding=1),\n",
    "            nn.ReLU(),\n",
    "            nn.ConvTranspose2d(64, 32, kernel_size=4, stride=2, padding=1), \n",
    "            nn.ReLU(),\n",
    "            nn.ConvTranspose2d(32, 3, kernel_size=4, stride=2, padding=1), \n",
    "            nn.Tanh()\n",
    "        )\n",
    "    \n",
    "    def forward(self, x):\n",
    "        z = self.encoder(x)\n",
    "        out = self.decoder(z)\n",
    "        return out\n",
    "    \n",
    "    def generate(self):\n",
    "        with torch.no_grad():\n",
    "            latent_vector = torch.randn(1, latent_dim, 1, 1).to(device)\n",
    "            generated_img = self.decoder(latent_vector).cpu()\n",
    "            generated_img = (generated_img + 1) / 2\n",
    "            \n",
    "            img = generated_img[0].permute(1, 2, 0).numpy()\n",
    "            plt.figure(figsize=(10, 4))\n",
    "            plt.imshow(img)\n",
    "            plt.axis(\"off\")\n",
    "            plt.show()"
   ],
   "metadata": {
    "collapsed": false,
    "ExecuteTime": {
     "end_time": "2025-02-27T12:11:37.665174200Z",
     "start_time": "2025-02-27T12:11:37.580695Z"
    }
   },
   "id": "1b9f3f13d4a96676"
  },
  {
   "cell_type": "markdown",
   "source": [
    "## Инициализация модели"
   ],
   "metadata": {
    "collapsed": false
   },
   "id": "3df25c60e9d669f"
  },
  {
   "cell_type": "code",
   "execution_count": 10,
   "outputs": [],
   "source": [
    "model = AutoEncoder().to(device)"
   ],
   "metadata": {
    "collapsed": false,
    "ExecuteTime": {
     "end_time": "2025-02-27T12:11:37.697051200Z",
     "start_time": "2025-02-27T12:11:37.595638300Z"
    }
   },
   "id": "433474c91ead700b"
  },
  {
   "cell_type": "code",
   "execution_count": 11,
   "outputs": [],
   "source": [
    "optimizer = optim.Adam(model.parameters(), lr=learning_rate)\n",
    "criterion = nn.L1Loss()\n",
    "scheduler = optim.lr_scheduler.StepLR(optimizer, step_size=10, gamma=0.5)\n",
    "writer = SummaryWriter(log_dir=\"logs\")"
   ],
   "metadata": {
    "collapsed": false,
    "ExecuteTime": {
     "end_time": "2025-02-27T12:11:37.699245200Z",
     "start_time": "2025-02-27T12:11:37.634387300Z"
    }
   },
   "id": "d2db66bbb93e10c7"
  },
  {
   "cell_type": "markdown",
   "source": [
    "## Обучение\n"
   ],
   "metadata": {
    "collapsed": false
   },
   "id": "35b42e68082ca5a6"
  },
  {
   "cell_type": "code",
   "execution_count": 12,
   "outputs": [],
   "source": [
    "epoch = 0\n",
    "best_loss = np.inf\n",
    "early_stop_counter = 0\n",
    "patience = 3"
   ],
   "metadata": {
    "collapsed": false,
    "ExecuteTime": {
     "end_time": "2025-02-27T12:11:37.719868900Z",
     "start_time": "2025-02-27T12:11:37.645690900Z"
    }
   },
   "id": "a666e88b776335dd"
  },
  {
   "cell_type": "code",
   "execution_count": 13,
   "outputs": [
    {
     "name": "stderr",
     "output_type": "stream",
     "text": [
      "Epoch 0: 100%|██████████| 222/222 [01:12<00:00,  3.07it/s]\n",
      "Epoch 1: 100%|██████████| 222/222 [00:44<00:00,  4.95it/s]\n",
      "Epoch 2: 100%|██████████| 222/222 [00:43<00:00,  5.10it/s]\n",
      "Epoch 3: 100%|██████████| 222/222 [00:43<00:00,  5.07it/s]\n",
      "Epoch 4: 100%|██████████| 222/222 [00:44<00:00,  5.04it/s]\n",
      "Epoch 5: 100%|██████████| 222/222 [00:44<00:00,  5.00it/s]\n",
      "Epoch 6: 100%|██████████| 222/222 [00:44<00:00,  5.01it/s]\n",
      "Epoch 7: 100%|██████████| 222/222 [00:44<00:00,  4.97it/s]\n",
      "Epoch 8: 100%|██████████| 222/222 [00:45<00:00,  4.91it/s]\n",
      "Epoch 9: 100%|██████████| 222/222 [00:44<00:00,  5.03it/s]\n",
      "Epoch 10: 100%|██████████| 222/222 [00:44<00:00,  4.96it/s]\n",
      "Epoch 11: 100%|██████████| 222/222 [00:44<00:00,  4.96it/s]\n",
      "Epoch 12: 100%|██████████| 222/222 [00:44<00:00,  4.94it/s]\n",
      "Epoch 13: 100%|██████████| 222/222 [00:44<00:00,  4.98it/s]\n",
      "Epoch 14: 100%|██████████| 222/222 [00:44<00:00,  5.03it/s]\n",
      "Epoch 15: 100%|██████████| 222/222 [01:24<00:00,  2.62it/s]\n",
      "Epoch 16: 100%|██████████| 222/222 [01:25<00:00,  2.61it/s]\n"
     ]
    }
   ],
   "source": [
    "while early_stop_counter <= patience:\n",
    "    model.train()\n",
    "    running_loss = 0.0\n",
    "    \n",
    "    for images, _ in tqdm(train_loader, desc=f\"Epoch {epoch}\"):\n",
    "        images = images.to(device)\n",
    "        optimizer.zero_grad()\n",
    "        outputs = model(images)\n",
    "        loss = criterion(outputs, images)\n",
    "        loss.backward()\n",
    "        optimizer.step()\n",
    "        running_loss += loss.item()\n",
    "    \n",
    "    avg_loss = running_loss / len(train_loader)\n",
    "    writer.add_scalar(\"Loss/train\", avg_loss, epoch)\n",
    "    \n",
    "    model.eval()\n",
    "    test_running_loss = 0.0\n",
    "    with torch.no_grad():\n",
    "        for images, _ in test_loader:\n",
    "            images = images.to(device)\n",
    "            outputs = model(images)\n",
    "            loss = criterion(outputs, images)\n",
    "            test_running_loss += loss.item()\n",
    "    \n",
    "    test_avg_loss = test_running_loss / len(test_loader)\n",
    "    writer.add_scalar(\"Loss/test\", test_avg_loss, epoch)\n",
    "    \n",
    "    if (best_loss - avg_loss) > 0.01:\n",
    "        best_loss = avg_loss\n",
    "        early_stop_counter = 0\n",
    "    else:\n",
    "        early_stop_counter += 1\n",
    "    scheduler.step()\n",
    "    epoch += 1\n",
    "writer.close()"
   ],
   "metadata": {
    "collapsed": false,
    "ExecuteTime": {
     "end_time": "2025-02-27T12:31:30.473649900Z",
     "start_time": "2025-02-27T12:11:37.657167Z"
    }
   },
   "id": "a66ee83f7442519d"
  },
  {
   "cell_type": "markdown",
   "source": [
    "### Посмотрим на графики ошибок"
   ],
   "metadata": {
    "collapsed": false
   },
   "id": "9afd1ac56aa1ede9"
  },
  {
   "cell_type": "code",
   "execution_count": 14,
   "outputs": [
    {
     "data": {
      "text/plain": "<tensorboard.backend.event_processing.event_accumulator.EventAccumulator at 0x134527240e0>"
     },
     "execution_count": 14,
     "metadata": {},
     "output_type": "execute_result"
    }
   ],
   "source": [
    "event_acc = event_accumulator.EventAccumulator(\"logs\")\n",
    "event_acc.Reload()"
   ],
   "metadata": {
    "collapsed": false,
    "ExecuteTime": {
     "end_time": "2025-02-27T12:31:30.501586Z",
     "start_time": "2025-02-27T12:31:30.473770900Z"
    }
   },
   "id": "146b684cd7b59906"
  },
  {
   "cell_type": "code",
   "execution_count": 15,
   "outputs": [],
   "source": [
    "loss_train_events = event_acc.Scalars(\"Loss/train\")\n",
    "loss_test_events = event_acc.Scalars(\"Loss/test\")"
   ],
   "metadata": {
    "collapsed": false,
    "ExecuteTime": {
     "end_time": "2025-02-27T12:31:30.521286800Z",
     "start_time": "2025-02-27T12:31:30.500402800Z"
    }
   },
   "id": "46fdd41f99d254a6"
  },
  {
   "cell_type": "code",
   "execution_count": 16,
   "outputs": [],
   "source": [
    "epochs_train = [e.step for e in loss_train_events]\n",
    "avg_loss_train = [e.value for e in loss_train_events]"
   ],
   "metadata": {
    "collapsed": false,
    "ExecuteTime": {
     "end_time": "2025-02-27T12:31:30.598621Z",
     "start_time": "2025-02-27T12:31:30.509248500Z"
    }
   },
   "id": "ad5c265fe51b5479"
  },
  {
   "cell_type": "code",
   "execution_count": 17,
   "outputs": [],
   "source": [
    "epochs_test = [e.step for e in loss_test_events]\n",
    "avg_loss_test = [e.value for e in loss_test_events]"
   ],
   "metadata": {
    "collapsed": false,
    "ExecuteTime": {
     "end_time": "2025-02-27T12:31:30.602120100Z",
     "start_time": "2025-02-27T12:31:30.516625300Z"
    }
   },
   "id": "c12f78bb7e4a333a"
  },
  {
   "cell_type": "code",
   "execution_count": 28,
   "outputs": [
    {
     "data": {
      "text/plain": "<Figure size 800x500 with 1 Axes>",
      "image/png": "[encoded data removed]"
     },
     "metadata": {},
     "output_type": "display_data"
    }
   ],
   "source": [
    "plt.figure(figsize=(8, 5))\n",
    "plt.plot(epochs_train, avg_loss_train, label=\"Train Loss\", color=\"blue\")\n",
    "plt.plot(epochs_test, avg_loss_test, label=\"Test Loss\", color=\"red\")\n",
    "\n",
    "plt.xlabel(\"Epochs\")\n",
    "plt.ylabel(\"Loss\")\n",
    "plt.title(\"Train vs Test Loss per Epoch\")\n",
    "plt.legend()\n",
    "plt.grid(True)\n",
    "plt.show()"
   ],
   "metadata": {
    "collapsed": false,
    "ExecuteTime": {
     "end_time": "2025-02-27T12:33:35.989395Z",
     "start_time": "2025-02-27T12:33:35.762925500Z"
    }
   },
   "id": "cb826370ea88337c"
  },
  {
   "cell_type": "markdown",
   "source": [
    "## Проверка качества модели"
   ],
   "metadata": {
    "collapsed": false
   },
   "id": "da9209167527f165"
  },
  {
   "cell_type": "code",
   "execution_count": 19,
   "outputs": [
    {
     "data": {
      "text/plain": "<Figure size 1000x400 with 1 Axes>",
      "image/png": "[encoded data removed]"
     },
     "metadata": {},
     "output_type": "display_data"
    },
    {
     "data": {
      "text/plain": "<Figure size 1000x400 with 1 Axes>",
      "image/png": "[encoded data removed]"
     },
     "metadata": {},
     "output_type": "display_data"
    },
    {
     "data": {
      "text/plain": "<Figure size 1000x400 with 1 Axes>",
      "image/png": "[encoded data removed]"
     },
     "metadata": {},
     "output_type": "display_data"
    }
   ],
   "source": [
    "model.generate()\n",
    "model.generate()\n",
    "model.generate()"
   ],
   "metadata": {
    "collapsed": false,
    "ExecuteTime": {
     "end_time": "2025-02-27T12:31:31.089188500Z",
     "start_time": "2025-02-27T12:31:30.872962Z"
    }
   },
   "id": "3d441b48e7af318"
  },
  {
   "cell_type": "markdown",
   "source": [
    "Вот такие уродцы получились"
   ],
   "metadata": {
    "collapsed": false
   },
   "id": "a90057642db05709"
  },
  {
   "cell_type": "markdown",
   "source": [
    "## Gif"
   ],
   "metadata": {
    "collapsed": false
   },
   "id": "9eb1db4668f30c7b"
  },
  {
   "cell_type": "code",
   "execution_count": 20,
   "outputs": [],
   "source": [
    "def interpolate(a, b, steps=50):\n",
    "    interpolated_images = []\n",
    "    alpha_values = np.linspace(0, 1, steps)\n",
    "    for alpha in alpha_values:\n",
    "        z = (1 - alpha) * a + alpha * b\n",
    "        img = model.decoder(z.unsqueeze(0)).cpu().detach().squeeze(0)\n",
    "        img = (img + 1) / 2\n",
    "        interpolated_images.append((img.permute(1, 2, 0).numpy() * 255).astype(np.uint8))\n",
    "    return interpolated_images"
   ],
   "metadata": {
    "collapsed": false,
    "ExecuteTime": {
     "end_time": "2025-02-27T12:31:31.092399800Z",
     "start_time": "2025-02-27T12:31:31.081017300Z"
    }
   },
   "id": "19e5e09ea6b6c1a1"
  },
  {
   "cell_type": "code",
   "execution_count": 21,
   "outputs": [],
   "source": [
    "images, _ = next(iter(test_loader))\n",
    "images = images.to(device)"
   ],
   "metadata": {
    "collapsed": false,
    "ExecuteTime": {
     "end_time": "2025-02-27T12:32:06.086349900Z",
     "start_time": "2025-02-27T12:31:31.090261800Z"
    }
   },
   "id": "28a09c2dc921d940"
  },
  {
   "cell_type": "code",
   "execution_count": 22,
   "outputs": [],
   "source": [
    "with torch.no_grad():\n",
    "    A, B = model.encoder(images[:2])"
   ],
   "metadata": {
    "collapsed": false,
    "ExecuteTime": {
     "end_time": "2025-02-27T12:32:06.120818400Z",
     "start_time": "2025-02-27T12:32:06.087348900Z"
    }
   },
   "id": "aea1eeb306fe932b"
  },
  {
   "cell_type": "code",
   "execution_count": 23,
   "outputs": [],
   "source": [
    "frames = interpolate(A, B, steps=50)"
   ],
   "metadata": {
    "collapsed": false,
    "ExecuteTime": {
     "end_time": "2025-02-27T12:32:06.298557600Z",
     "start_time": "2025-02-27T12:32:06.101221300Z"
    }
   },
   "id": "d56f9c729f7be8ea"
  },
  {
   "cell_type": "code",
   "execution_count": 24,
   "outputs": [],
   "source": [
    "imageio.mimsave(\"cat.gif\", frames, duration=0.1)"
   ],
   "metadata": {
    "collapsed": false,
    "ExecuteTime": {
     "end_time": "2025-02-27T12:32:07.267411700Z",
     "start_time": "2025-02-27T12:32:06.300775300Z"
    }
   },
   "id": "db709455eb2e5175"
  }
 ],
 "metadata": {
  "kernelspec": {
   "display_name": "Python 3",
   "language": "python",
   "name": "python3"
  },
  "language_info": {
   "codemirror_mode": {
    "name": "ipython",
    "version": 2
   },
   "file_extension": ".py",
   "mimetype": "text/x-python",
   "name": "python",
   "nbconvert_exporter": "python",
   "pygments_lexer": "ipython2",
   "version": "2.7.6"
  }
 },
 "nbformat": 4,
 "nbformat_minor": 5
}
